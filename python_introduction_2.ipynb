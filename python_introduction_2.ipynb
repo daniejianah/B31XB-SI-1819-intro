{
 "cells": [
  {
   "cell_type": "markdown",
   "metadata": {},
   "source": [
    "What we will cover in this notebook:\n",
    "* list, tuple, dictionaries\n",
    "* set-comprehensions\n",
    "* loops, iterators \n",
    "* main function"
   ]
  },
  {
   "cell_type": "code",
   "execution_count": 1,
   "metadata": {
    "collapsed": true
   },
   "outputs": [],
   "source": [
    "%matplotlib inline\n",
    "import numpy as np\n",
    "from itertools import product \n"
   ]
  },
  {
   "cell_type": "markdown",
   "metadata": {},
   "source": [
    "## Control-flow"
   ]
  },
  {
   "cell_type": "markdown",
   "metadata": {},
   "source": [
    "<div class=\"alert alert-success\">\n",
    "\n",
    "<b>EXERCISE-1</b>:\n",
    "<ul>\n",
    "\n",
    "<li> Write a function which checks if a list has some element, similarly checks that a list is empty</li>\n",
    "</ul>\n",
    "\n",
    "</div>"
   ]
  },
  {
   "cell_type": "code",
   "execution_count": 3,
   "metadata": {
    "collapsed": true
   },
   "outputs": [],
   "source": [
    "def check_a (a):\n",
    "    if not a:\n",
    "        print (\"a is empty\")\n",
    "    else :\n",
    "        print ('a  is not empty')"
   ]
  },
  {
   "cell_type": "code",
   "execution_count": 5,
   "metadata": {},
   "outputs": [],
   "source": [
    "def check_b (b):\n",
    "    if len (b) == 0:\n",
    "                print (\"a is empty\")\n",
    "    else :\n",
    "        print ('a  is not empty')\n",
    "        "
   ]
  },
  {
   "cell_type": "code",
   "execution_count": 15,
   "metadata": {},
   "outputs": [
    {
     "name": "stdout",
     "output_type": "stream",
     "text": [
      "a is empty\n"
     ]
    }
   ],
   "source": [
    "a = []\n",
    "check_b(a)"
   ]
  },
  {
   "cell_type": "code",
   "execution_count": 10,
   "metadata": {},
   "outputs": [
    {
     "name": "stdout",
     "output_type": "stream",
     "text": [
      "a  is not empty\n"
     ]
    }
   ],
   "source": [
    "a1 = [1,2,3]\n",
    "check_a(a1)"
   ]
  },
  {
   "cell_type": "markdown",
   "metadata": {},
   "source": [
    "<div class=\"alert alert-success\">\n",
    "\n",
    "<b>EXERCISE-2</b>:\n",
    "<ul>\n",
    "<li> Write a statement to check the same for an integer, check your statements, when your integer is 0</li>\n",
    "</ul>\n",
    "</div>"
   ]
  },
  {
   "cell_type": "code",
   "execution_count": 13,
   "metadata": {},
   "outputs": [
    {
     "name": "stdout",
     "output_type": "stream",
     "text": [
      "a is not empty \n"
     ]
    }
   ],
   "source": [
    "a = 1\n",
    "if a :\n",
    "    print ('a is not empty ')\n",
    "else :\n",
    "    print ('a is empty')"
   ]
  },
  {
   "cell_type": "code",
   "execution_count": 14,
   "metadata": {},
   "outputs": [
    {
     "name": "stdout",
     "output_type": "stream",
     "text": [
      "a is empty\n"
     ]
    }
   ],
   "source": [
    "a = 0\n",
    "if a :\n",
    "    print ('a is not empty ')\n",
    "else :\n",
    "    print ('a is empty')"
   ]
  },
  {
   "cell_type": "markdown",
   "metadata": {},
   "source": [
    "<div class=\"alert alert-success\">\n",
    "\n",
    "<b>EXERCISE-3</b>:\n",
    "<ul>\n",
    "\n",
    "<l> Considering the following lits, tuple:</l>\n",
    "<l> `month_index = [1, 2, 3, 4, 5]`,   `month_name=('Jan', 'Feb', 'Mar', 'Apr', 'May')`</l>\n",
    "<l> perform the following tasks:</l>\n",
    "<li>In two different ways iterate over the list and print each element </li>\n",
    "</ul>\n",
    "\n",
    "</div>"
   ]
  },
  {
   "cell_type": "code",
   "execution_count": 20,
   "metadata": {},
   "outputs": [
    {
     "name": "stdout",
     "output_type": "stream",
     "text": [
      "1\n",
      "2\n",
      "3\n",
      "4\n",
      "5\n"
     ]
    }
   ],
   "source": [
    "month_index = [1, 2, 3, 4, 5]\n",
    "for elm in month_index :\n",
    "    print (elm)"
   ]
  },
  {
   "cell_type": "code",
   "execution_count": 25,
   "metadata": {},
   "outputs": [
    {
     "name": "stdout",
     "output_type": "stream",
     "text": [
      "1\n",
      "2\n",
      "3\n",
      "4\n",
      "5\n"
     ]
    }
   ],
   "source": [
    "for i in range (0,len(month_index)):\n",
    "    print (month_index[i])"
   ]
  },
  {
   "cell_type": "markdown",
   "metadata": {},
   "source": [
    "<div class=\"alert alert-success\">\n",
    "\n",
    "<li>Iterate over the tuple and print the month names</li>\n",
    "\n",
    "</div>"
   ]
  },
  {
   "cell_type": "code",
   "execution_count": 26,
   "metadata": {},
   "outputs": [
    {
     "name": "stdout",
     "output_type": "stream",
     "text": [
      "Jan\n",
      "Feb\n",
      "Mar\n",
      "Apr\n",
      "May\n"
     ]
    }
   ],
   "source": [
    "month_name=('Jan', 'Feb', 'Mar', 'Apr', 'May') \n",
    "for element in  month_name :\n",
    "    print (element)"
   ]
  },
  {
   "cell_type": "code",
   "execution_count": 29,
   "metadata": {},
   "outputs": [
    {
     "name": "stdout",
     "output_type": "stream",
     "text": [
      "The month is Jan \n",
      "The month is Feb \n",
      "The month is Mar \n",
      "The month is Apr \n",
      "The month is May \n"
     ]
    }
   ],
   "source": [
    "#ANSWER\n",
    "for m_name in  month_name :\n",
    "    print ('The month is {} '. format(m_name))"
   ]
  },
  {
   "cell_type": "code",
   "execution_count": 27,
   "metadata": {},
   "outputs": [
    {
     "name": "stdout",
     "output_type": "stream",
     "text": [
      "Jan\n",
      "Feb\n",
      "Mar\n",
      "Apr\n",
      "May\n"
     ]
    }
   ],
   "source": [
    "for i in range (0,len(month_name)):\n",
    "    print (month_name[i])"
   ]
  },
  {
   "cell_type": "markdown",
   "metadata": {},
   "source": [
    "<div class=\"alert alert-success\">\n",
    "\n",
    "<li>Iterate over the month_index and month_name and create a dictionary `month_dict` using **set-comprehension** and **zip**</li>\n",
    "</div>"
   ]
  },
  {
   "cell_type": "code",
   "execution_count": 34,
   "metadata": {},
   "outputs": [
    {
     "name": "stdout",
     "output_type": "stream",
     "text": [
      "[('Jan', 1), ('Feb', 2), ('Mar', 3), ('Apr', 4), ('May', 5)]\n"
     ]
    }
   ],
   "source": [
    "#zip\n",
    "month_name=('Jan', 'Feb', 'Mar', 'Apr', 'May') \n",
    "month_index = [1, 2, 3, 4, 5]\n",
    "month_dict = zip( month_name, month_index )\n",
    "print (month_dict )"
   ]
  },
  {
   "cell_type": "code",
   "execution_count": 36,
   "metadata": {},
   "outputs": [
    {
     "name": "stdout",
     "output_type": "stream",
     "text": [
      "('Jan', 1)\n",
      "('Feb', 2)\n",
      "('Mar', 3)\n",
      "('Apr', 4)\n",
      "('May', 5)\n"
     ]
    }
   ],
   "source": [
    "#ANSWER\n",
    "for name_index in zip( month_name, month_index ):\n",
    "    print (name_index)"
   ]
  },
  {
   "cell_type": "code",
   "execution_count": 38,
   "metadata": {},
   "outputs": [
    {
     "name": "stdout",
     "output_type": "stream",
     "text": [
      "{'Jan': 1, 'Apr': 4, 'Mar': 3, 'Feb': 2, 'May': 5}\n"
     ]
    }
   ],
   "source": [
    "#set-comprehension \n",
    "dict = {key : value for key, value in zip( month_name, month_index )}\n",
    "print(dict)"
   ]
  },
  {
   "cell_type": "markdown",
   "metadata": {},
   "source": [
    "<div class=\"alert alert-success\">\n",
    "\n",
    "<b>EXERCISE-4</b>:\n",
    "<ul>\n",
    "<l>considering the year index list `year_index=[2016, 2017, 2018]` and `month_index` and `month_name`</l>\n",
    "<li>Using **`zip`**, **`set-comprehension`**, and **`product`** from `itertools` in a way to get the following output</li>\n",
    "\n",
    "<li>```(2016, ('Jan', 1))\n",
    "(2016, ('Feb', 2))\n",
    "(2016, ('Mar', 3))\n",
    "(2016, ('Apr', 4))\n",
    "(2016, ('May', 5))\n",
    "(2017, ('Jan', 1))\n",
    "(2017, ('Feb', 2))\n",
    "(2017, ('Mar', 3))\n",
    "(2017, ('Apr', 4))\n",
    "(2017, ('May', 5))\n",
    "(2018, ('Jan', 1))\n",
    "(2018, ('Feb', 2))\n",
    "(2018, ('Mar', 3))\n",
    "(2018, ('Apr', 4))\n",
    "(2018, ('May', 5))```</li>\n",
    "</ul>\n",
    "</div>"
   ]
  },
  {
   "cell_type": "code",
   "execution_count": 47,
   "metadata": {},
   "outputs": [
    {
     "name": "stdout",
     "output_type": "stream",
     "text": [
      "(2016, 'Jan', 1)\n",
      "(2017, 'Feb', 2)\n",
      "(2018, 'Mar', 3)\n"
     ]
    }
   ],
   "source": [
    "year_index=[2016, 2017, 2018] \n",
    "for name_index in zip( month_name, month_index ):\n",
    "    print (name_index)\n",
    "    "
   ]
  },
  {
   "cell_type": "code",
   "execution_count": 56,
   "metadata": {},
   "outputs": [
    {
     "name": "stdout",
     "output_type": "stream",
     "text": [
      "(2016, ('Jan', 1))\n",
      "(2016, ('Feb', 2))\n",
      "(2016, ('Mar', 3))\n",
      "(2016, ('Apr', 4))\n",
      "(2016, ('May', 5))\n",
      "(2017, ('Jan', 1))\n",
      "(2017, ('Feb', 2))\n",
      "(2017, ('Mar', 3))\n",
      "(2017, ('Apr', 4))\n",
      "(2017, ('May', 5))\n",
      "(2018, ('Jan', 1))\n",
      "(2018, ('Feb', 2))\n",
      "(2018, ('Mar', 3))\n",
      "(2018, ('Apr', 4))\n",
      "(2018, ('May', 5))\n"
     ]
    }
   ],
   "source": [
    "for i in range (0,len(year_index)):\n",
    "    for name_index in zip( month_name, month_index ):\n",
    "        print (year_index[i],name_index)\n",
    "    "
   ]
  },
  {
   "cell_type": "code",
   "execution_count": 65,
   "metadata": {},
   "outputs": [
    {
     "name": "stdout",
     "output_type": "stream",
     "text": [
      "[('Jan', 1), ('Feb', 2), ('Mar', 3), ('Apr', 4), ('May', 5)]\n"
     ]
    }
   ],
   "source": [
    "month = [(m_name,m_idx) for m_name,m_idx in zip(month_name,month_index)]\n",
    "print(month)"
   ]
  },
  {
   "cell_type": "code",
   "execution_count": 73,
   "metadata": {},
   "outputs": [],
   "source": [
    "# Answer using product\n",
    "a = [( y_idx,elm) for y_idx,elm in product(year_index,month)]\n"
   ]
  },
  {
   "cell_type": "code",
   "execution_count": 81,
   "metadata": {},
   "outputs": [
    {
     "data": {
      "text/plain": [
       "[(2016, ('Jan', 1)),\n",
       " (2016, ('Feb', 2)),\n",
       " (2016, ('Mar', 3)),\n",
       " (2016, ('Apr', 4)),\n",
       " (2016, ('May', 5)),\n",
       " (2017, ('Jan', 1)),\n",
       " (2017, ('Feb', 2)),\n",
       " (2017, ('Mar', 3)),\n",
       " (2017, ('Apr', 4)),\n",
       " (2017, ('May', 5)),\n",
       " (2018, ('Jan', 1)),\n",
       " (2018, ('Feb', 2)),\n",
       " (2018, ('Mar', 3)),\n",
       " (2018, ('Apr', 4)),\n",
       " (2018, ('May', 5))]"
      ]
     },
     "execution_count": 81,
     "metadata": {},
     "output_type": "execute_result"
    }
   ],
   "source": [
    "# a= [print(a) for a in a]  only in python 3\n",
    "a"
   ]
  },
  {
   "cell_type": "markdown",
   "metadata": {},
   "source": [
    "## Main function"
   ]
  },
  {
   "cell_type": "markdown",
   "metadata": {},
   "source": [
    "<div class=\"alert alert-success\">\n",
    "\n",
    "<b>EXERCISE-5</b>:\n",
    "<ul>\n",
    "<l>Write a python script **`print_int_lists.py`** in script folder, which is able to accept a input from the user and print the integers up to the user requested input </l>\n",
    "\n",
    "</ul>\n",
    "</div>"
   ]
  },
  {
   "cell_type": "code",
   "execution_count": 83,
   "metadata": {},
   "outputs": [],
   "source": [
    "# first create a folder from a terminal inside the folder B31XB\n",
    "    # mkdir script\n",
    "# then create a file named print_int_lists.py\n",
    "    # touch print_int_lists.py\n",
    "# To remove \n",
    "    # rm print print_int_lists.py\n"
   ]
  },
  {
   "cell_type": "code",
   "execution_count": 95,
   "metadata": {},
   "outputs": [
    {
     "name": "stdout",
     "output_type": "stream",
     "text": [
      "[0, 1, 2, 3, 4, 5, 6, 7, 8, 9]\n"
     ]
    }
   ],
   "source": [
    "run script/print_int_lists.py 10"
   ]
  },
  {
   "cell_type": "code",
   "execution_count": null,
   "metadata": {
    "collapsed": true
   },
   "outputs": [],
   "source": []
  }
 ],
 "metadata": {
  "kernelspec": {
   "display_name": "Python 2",
   "language": "python",
   "name": "python2"
  },
  "language_info": {
   "codemirror_mode": {
    "name": "ipython",
    "version": 2
   },
   "file_extension": ".py",
   "mimetype": "text/x-python",
   "name": "python",
   "nbconvert_exporter": "python",
   "pygments_lexer": "ipython2",
   "version": "2.7.13"
  }
 },
 "nbformat": 4,
 "nbformat_minor": 2
}
