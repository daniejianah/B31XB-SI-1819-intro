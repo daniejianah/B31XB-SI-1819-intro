{
 "cells": [
  {
   "cell_type": "markdown",
   "metadata": {},
   "source": [
    "## Numpy"
   ]
  },
  {
   "cell_type": "markdown",
   "metadata": {},
   "source": [
    "### What is numpy ? \n",
    "* memory-efficient container for multi-dimensional homogeneous (mainly numerical) data (NumPy array)\n",
    "* fast vectorised operations on arrays\n",
    "* library general purpose functions: data reading/writing, linear algebra, FFT etc. (for more wait for SciPy lecture)\n",
    "* main applications: signal processing, image processing, analysis of raw data from measurment instruments\n",
    "\n"
   ]
  },
  {
   "cell_type": "code",
   "execution_count": 1,
   "metadata": {
    "collapsed": true
   },
   "outputs": [],
   "source": [
    "% matplotlib inline \n",
    "import numpy as np \n",
    "import matplotlib.pyplot as plt"
   ]
  },
  {
   "cell_type": "code",
   "execution_count": 2,
   "metadata": {},
   "outputs": [
    {
     "name": "stdout",
     "output_type": "stream",
     "text": [
      "[1 2 3]\n"
     ]
    }
   ],
   "source": [
    "new_array = np.array([1, 2, 3])\n",
    "print(new_array)"
   ]
  },
  {
   "cell_type": "code",
   "execution_count": 3,
   "metadata": {
    "collapsed": true
   },
   "outputs": [],
   "source": [
    "# loading data/inflammation-01.csv\n",
    "data = np.loadtxt(fname='data/inflammation-01.csv', delimiter=',')"
   ]
  },
  {
   "cell_type": "markdown",
   "metadata": {},
   "source": [
    "<div class=\"alert alert-success\">\n",
    "\n",
    "<b>EXERCISE-1</b>:\n",
    "\n",
    " <ul>\n",
    "  <l>Print the data, its type and shape using numpy library.</l>\n",
    "</ul>\n",
    "</div>"
   ]
  },
  {
   "cell_type": "code",
   "execution_count": null,
   "metadata": {
    "collapsed": true
   },
   "outputs": [],
   "source": []
  },
  {
   "cell_type": "code",
   "execution_count": 14,
   "metadata": {},
   "outputs": [
    {
     "data": {
      "text/plain": [
       "<matplotlib.image.AxesImage at 0x7f5330089cf8>"
      ]
     },
     "execution_count": 14,
     "metadata": {},
     "output_type": "execute_result"
    },
    {
     "data": {
      "image/png": "[encoded data removed]",
      "text/plain": [
       "<matplotlib.figure.Figure at 0x7f53301072e8>"
      ]
     },
     "metadata": {},
     "output_type": "display_data"
    }
   ],
   "source": [
    "# plotting the data using matplotlib\n",
    "plt.matshow(data)"
   ]
  },
  {
   "cell_type": "markdown",
   "metadata": {},
   "source": [
    "### Slicing and Filtering"
   ]
  },
  {
   "cell_type": "markdown",
   "metadata": {},
   "source": [
    "<div class=\"alert alert-success\">\n",
    "\n",
    "<b>EXERCISE-2</b>:\n",
    "\n",
    " <ul>\n",
    "  <li> Print the element in the $1^{st}$ row and $10^{th}$ cloumn of the data.</li>\n",
    "  <li> Print the elements in the $3^{rd}$ row and columns of $3^{rd}$ and $15^{th}$.</li>\n",
    "  <li> Print the elements in the $4^{th}$ row and columns from $3^{rd}$ t0 $15^{th}$.</li>\n",
    "  <li> Print all the elements in column $15$ which their value is above 10.</li>\n",
    "</ul>\n",
    "</div>"
   ]
  },
  {
   "cell_type": "code",
   "execution_count": 10,
   "metadata": {},
   "outputs": [
    {
     "name": "stdout",
     "output_type": "stream",
     "text": [
      "[[  0.   0.   1.   3.   1.   2.   4.   7.   8.   3.   3.   3.  10.   5.\n",
      "    7.   4.   7.   7.  12.  18.   6.  13.  11.  11.   7.   7.   4.   6.\n",
      "    8.   8.   4.   4.   5.   7.   3.   4.   2.   3.   0.   0.]\n",
      " [  0.   1.   2.   1.   2.   1.   3.   2.   2.   6.  10.  11.   5.   9.\n",
      "    4.   4.   7.  16.   8.   6.  18.   4.  12.   5.  12.   7.  11.   5.\n",
      "   11.   3.   3.   5.   4.   4.   5.   5.   1.   1.   0.   1.]\n",
      " [  0.   1.   1.   3.   3.   2.   6.   2.   5.   9.   5.   7.   4.   5.\n",
      "    4.  15.   5.  11.   9.  10.  19.  14.  12.  17.   7.  12.  11.   7.\n",
      "    4.   2.  10.   5.   4.   2.   2.   3.   2.   2.   1.   1.]\n",
      " [  0.   0.   2.   0.   4.   2.   2.   1.   6.   7.  10.   7.   9.  13.\n",
      "    8.   8.  15.  10.  10.   7.  17.   4.   4.   7.   6.  15.   6.   4.\n",
      "    9.  11.   3.   5.   6.   3.   3.   4.   2.   3.   2.   1.]\n",
      " [  0.   1.   1.   3.   3.   1.   3.   5.   2.   4.   4.   7.   6.   5.\n",
      "    3.  10.   8.  10.   6.  17.   9.  14.   9.   7.  13.   9.  12.   6.\n",
      "    7.   7.   9.   6.   3.   2.   2.   4.   2.   0.   1.   1.]\n",
      " [  0.   0.   1.   2.   2.   4.   2.   1.   6.   4.   7.   6.   6.   9.\n",
      "    9.  15.   4.  16.  18.  12.  12.   5.  18.   9.   5.   3.  10.   3.\n",
      "   12.   7.   8.   4.   7.   3.   5.   4.   4.   3.   2.   1.]\n",
      " [  0.   0.   2.   2.   4.   2.   2.   5.   5.   8.   6.   5.  11.   9.\n",
      "    4.  13.   5.  12.  10.   6.   9.  17.  15.   8.   9.   3.  13.   7.\n",
      "    8.   2.   8.   8.   4.   2.   3.   5.   4.   1.   1.   1.]\n",
      " [  0.   0.   1.   2.   3.   1.   2.   3.   5.   3.   7.   8.   8.   5.\n",
      "   10.   9.  15.  11.  18.  19.  20.   8.   5.  13.  15.  10.   6.  10.\n",
      "    6.   7.   4.   9.   3.   5.   2.   5.   3.   2.   2.   1.]\n",
      " [  0.   0.   0.   3.   1.   5.   6.   5.   5.   8.   2.   4.  11.  12.\n",
      "   10.  11.   9.  10.  17.  11.   6.  16.  12.   6.   8.  14.   6.  13.\n",
      "   10.  11.   4.   6.   4.   7.   6.   3.   2.   1.   0.   0.]]\n"
     ]
    }
   ],
   "source": [
    "print(data[0:9])"
   ]
  },
  {
   "cell_type": "markdown",
   "metadata": {},
   "source": [
    "<div class=\"alert alert-success\">\n",
    "\n",
    "<b>EXERCISE-3</b>:\n",
    "\n",
    " <ul>\n",
    "  <l>Imaging the following array `a = [0, 5, 8, 10]`, which of the following commands will give you this output `[5, 8]` </l>\n",
    "\n",
    "     <li> ` print(a[1,2])` </li>\n",
    "     <li> `print(a[1:3])` </li>\n",
    "     <li> `print(a[1:2])`</li>\n",
    "     <li>`print(a[[1, 2]])`</li>\n",
    "     <li>`print(a[a<10])`</li> \n",
    "</ul>\n",
    "</div>"
   ]
  },
  {
   "cell_type": "code",
   "execution_count": null,
   "metadata": {
    "collapsed": true
   },
   "outputs": [],
   "source": []
  },
  {
   "cell_type": "code",
   "execution_count": null,
   "metadata": {
    "collapsed": true
   },
   "outputs": [],
   "source": []
  },
  {
   "cell_type": "code",
   "execution_count": null,
   "metadata": {
    "collapsed": true
   },
   "outputs": [],
   "source": []
  },
  {
   "cell_type": "code",
   "execution_count": null,
   "metadata": {
    "collapsed": true
   },
   "outputs": [],
   "source": []
  },
  {
   "cell_type": "code",
   "execution_count": null,
   "metadata": {
    "collapsed": true
   },
   "outputs": [],
   "source": []
  },
  {
   "cell_type": "code",
   "execution_count": null,
   "metadata": {
    "collapsed": true
   },
   "outputs": [],
   "source": []
  },
  {
   "cell_type": "markdown",
   "metadata": {},
   "source": [
    "### Broadcasting"
   ]
  },
  {
   "cell_type": "markdown",
   "metadata": {},
   "source": [
    "It’s possible to do operations on arrays of different sizes. In some cases NumPy can transform these arrays automatically so that they behave like same-sized arrays. This conversion is called broadcasting. For example we can"
   ]
  },
  {
   "cell_type": "code",
   "execution_count": 4,
   "metadata": {},
   "outputs": [
    {
     "data": {
      "text/plain": [
       "array([[ 0.        , -0.45      , -0.11666667, ...,  1.5       ,\n",
       "        -1.13333333, -0.56666667],\n",
       "       [ 0.        ,  0.55      ,  0.88333333, ..., -0.5       ,\n",
       "        -1.13333333,  0.43333333],\n",
       "       [ 0.        ,  0.55      , -0.11666667, ...,  0.5       ,\n",
       "        -0.13333333,  0.43333333],\n",
       "       ..., \n",
       "       [ 0.        ,  0.55      , -0.11666667, ..., -0.5       ,\n",
       "        -0.13333333,  0.43333333],\n",
       "       [ 0.        , -0.45      , -1.11666667, ..., -1.5       ,\n",
       "         0.86666667, -0.56666667],\n",
       "       [ 0.        , -0.45      , -0.11666667, ..., -0.5       ,\n",
       "        -0.13333333, -0.56666667]])"
      ]
     },
     "execution_count": 4,
     "metadata": {},
     "output_type": "execute_result"
    }
   ],
   "source": [
    "data - np.mean(data, 0)"
   ]
  },
  {
   "cell_type": "markdown",
   "metadata": {},
   "source": [
    "<div class=\"alert alert-success\">\n",
    "<b>EXERCISE-4</b>:\n",
    "\n",
    " <ul>\n",
    "  <l>Given the following array: `a = no.array([[2, 3, 1], [4, 1, 1]])` </l>\n",
    "  \n",
    "\n",
    "  <li> For each column of `a` subtract mean across rows. Next, from each row subtract its mean across columns.</li>\n",
    "\n",
    "  <l>Tip: You can use `a.T` to transpose the array </l> \n",
    "</ul>\n",
    "</div>"
   ]
  },
  {
   "cell_type": "code",
   "execution_count": 8,
   "metadata": {},
   "outputs": [
    {
     "name": "stdout",
     "output_type": "stream",
     "text": [
      "[[2 3 1]\n",
      " [4 1 1]]\n"
     ]
    }
   ],
   "source": [
    "a = np.array([[2, 3, 1], [4, 1, 1]])\n",
    "print (a)"
   ]
  },
  {
   "cell_type": "code",
   "execution_count": 12,
   "metadata": {},
   "outputs": [
    {
     "ename": "SyntaxError",
     "evalue": "invalid syntax (<ipython-input-12-dc1b6f719b00>, line 2)",
     "output_type": "error",
     "traceback": [
      "\u001b[0;36m  File \u001b[0;32m\"<ipython-input-12-dc1b6f719b00>\"\u001b[0;36m, line \u001b[0;32m2\u001b[0m\n\u001b[0;31m    print(\"mean of a across its columns is {}\".format(a.mean(axis=1))\u001b[0m\n\u001b[0m        ^\u001b[0m\n\u001b[0;31mSyntaxError\u001b[0m\u001b[0;31m:\u001b[0m invalid syntax\n"
     ]
    }
   ],
   "source": [
    "print('mean of a across its columns is {}'.format(a.mean(axis=0))\n",
    "print('mean of a across its columns is {}'.format(a.mean(axis=1))"
   ]
  },
  {
   "cell_type": "code",
   "execution_count": null,
   "metadata": {
    "collapsed": true
   },
   "outputs": [],
   "source": []
  },
  {
   "cell_type": "code",
   "execution_count": null,
   "metadata": {
    "collapsed": true
   },
   "outputs": [],
   "source": []
  },
  {
   "cell_type": "code",
   "execution_count": null,
   "metadata": {
    "collapsed": true
   },
   "outputs": [],
   "source": []
  }
 ],
 "metadata": {
  "kernelspec": {
   "display_name": "Python 2",
   "language": "python",
   "name": "python2"
  },
  "language_info": {
   "codemirror_mode": {
    "name": "ipython",
    "version": 2
   },
   "file_extension": ".py",
   "mimetype": "text/x-python",
   "name": "python",
   "nbconvert_exporter": "python",
   "pygments_lexer": "ipython2",
   "version": "2.7.13"
  }
 },
 "nbformat": 4,
 "nbformat_minor": 2
}
