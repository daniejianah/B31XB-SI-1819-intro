{
 "cells": [
  {
   "cell_type": "markdown",
   "metadata": {
    "collapsed": true
   },
   "source": [
    "## Data structures in Python"
   ]
  },
  {
   "cell_type": "markdown",
   "metadata": {
    "collapsed": true
   },
   "source": [
    "Python is a great general-purpose programming language on its own, but with the help of a few popular libraries (numpy, matplotlib， pandas) it becomes a powerful environment for scientific computing.\n",
    "\n",
    "We expect that many of you will have some experience with Python and numpy; for the rest of you, this section will serve as a quick crash course both on the Python programming language and on the use of Python for scientific computing.\n",
    "\n",
    "In this tutorial, we will cover some basic data stucture with visualizasion.\n",
    "\n",
    "For visualization, here we use lolviz, which is a simple Python data-structure visualization tool based on Graphviz.\n",
    "To install:\n",
    "<pre><code> \n",
    "$ sudo apt-get install graphviz \n",
    "$ pip install lolviz\n",
    "</code></pre>"
   ]
  },
  {
   "cell_type": "code",
   "execution_count": 11,
   "metadata": {},
   "outputs": [
    {
     "ename": "ImportError",
     "evalue": "No module named lolviz",
     "output_type": "error",
     "traceback": [
      "\u001b[0;31m---------------------------------------------------------------------------\u001b[0m",
      "\u001b[0;31mImportError\u001b[0m                               Traceback (most recent call last)",
      "\u001b[0;32m<ipython-input-11-df072981592b>\u001b[0m in \u001b[0;36m<module>\u001b[0;34m()\u001b[0m\n\u001b[0;32m----> 1\u001b[0;31m \u001b[0;32mfrom\u001b[0m \u001b[0mlolviz\u001b[0m \u001b[0;32mimport\u001b[0m \u001b[0;34m*\u001b[0m\u001b[0;34m\u001b[0m\u001b[0m\n\u001b[0m\u001b[1;32m      2\u001b[0m \u001b[0;31m# use in python3\u001b[0m\u001b[0;34m\u001b[0m\u001b[0;34m\u001b[0m\u001b[0m\n",
      "\u001b[0;31mImportError\u001b[0m: No module named lolviz"
     ]
    }
   ],
   "source": [
    "from lolviz import *\n",
    "# use in python3"
   ]
  },
  {
   "cell_type": "markdown",
   "metadata": {},
   "source": [
    "### List"
   ]
  },
  {
   "cell_type": "code",
   "execution_count": 5,
   "metadata": {},
   "outputs": [
    {
     "ename": "NameError",
     "evalue": "name 'objviz' is not defined",
     "output_type": "error",
     "traceback": [
      "\u001b[0;31m---------------------------------------------------------------------------\u001b[0m",
      "\u001b[0;31mNameError\u001b[0m                                 Traceback (most recent call last)",
      "\u001b[0;32m<ipython-input-5-852e5622e936>\u001b[0m in \u001b[0;36m<module>\u001b[0;34m()\u001b[0m\n\u001b[1;32m      1\u001b[0m \u001b[0mstudents\u001b[0m \u001b[0;34m=\u001b[0m \u001b[0;34m[\u001b[0m\u001b[0;34m'bernice'\u001b[0m\u001b[0;34m,\u001b[0m \u001b[0;34m'aaron'\u001b[0m\u001b[0;34m,\u001b[0m \u001b[0;34m'cody'\u001b[0m\u001b[0;34m]\u001b[0m\u001b[0;34m\u001b[0m\u001b[0m\n\u001b[0;32m----> 2\u001b[0;31m \u001b[0mobjviz\u001b[0m\u001b[0;34m(\u001b[0m\u001b[0mstudents\u001b[0m\u001b[0;34m)\u001b[0m\u001b[0;34m\u001b[0m\u001b[0m\n\u001b[0m",
      "\u001b[0;31mNameError\u001b[0m: name 'objviz' is not defined"
     ]
    }
   ],
   "source": [
    "students = ['bernice', 'aaron', 'cody']\n",
    "objviz(students)\n",
    "# the length is 3 but the index is from 0 to 2"
   ]
  },
  {
   "cell_type": "code",
   "execution_count": 6,
   "metadata": {},
   "outputs": [
    {
     "name": "stdout",
     "output_type": "stream",
     "text": [
      "Hello, Bernice!\n",
      "Hello, Aaron!\n",
      "Hello, Cody!\n"
     ]
    }
   ],
   "source": [
    "for student in students:\n",
    "    print(\"Hello, \" + student.title() + \"!\")"
   ]
  },
  {
   "cell_type": "code",
   "execution_count": 4,
   "metadata": {},
   "outputs": [
    {
     "name": "stdout",
     "output_type": "stream",
     "text": [
      "['bernice', 'aaron', 'cody', 'tom']\n"
     ]
    }
   ],
   "source": [
    "students.append('tom')\n",
    "print(students)\n",
    "# append is to add "
   ]
  },
  {
   "cell_type": "code",
   "execution_count": 5,
   "metadata": {},
   "outputs": [
    {
     "name": "stdout",
     "output_type": "stream",
     "text": [
      "['bernice', 'aaron', 'tom']\n",
      "['tom', 'aaron', 'bernice']\n"
     ]
    }
   ],
   "source": [
    "students.remove('cody')\n",
    "print(students)\n",
    "\n",
    "students.reverse()\n",
    "print(students)"
   ]
  },
  {
   "cell_type": "code",
   "execution_count": 7,
   "metadata": {},
   "outputs": [
    {
     "data": {
      "text/plain": [
       "['bernice', 'cody']"
      ]
     },
     "execution_count": 7,
     "metadata": {},
     "output_type": "execute_result"
    }
   ],
   "source": [
    "# remove an item from a list given its index or clear the entire list\n",
    "del students[1:2]  \n",
    "students"
   ]
  },
  {
   "cell_type": "markdown",
   "metadata": {},
   "source": [
    "### Tuple"
   ]
  },
  {
   "cell_type": "code",
   "execution_count": 7,
   "metadata": {},
   "outputs": [
    {
     "data": {
      "image/svg+xml": [
       "<?xml version=\"1.0\" encoding=\"UTF-8\" standalone=\"no\"?>\n",
       "<!DOCTYPE svg PUBLIC \"-//W3C//DTD SVG 1.1//EN\"\n",
       " \"http://www.w3.org/Graphics/SVG/1.1/DTD/svg11.dtd\">\n",
       "<!-- Generated by graphviz version 2.36.0 (20140111.2315)\n",
       " -->\n",
       "<!-- Title: G Pages: 1 -->\n",
       "<svg width=\"174pt\" height=\"40pt\"\n",
       " viewBox=\"0.00 0.00 174.00 40.00\" xmlns=\"http://www.w3.org/2000/svg\" xmlns:xlink=\"http://www.w3.org/1999/xlink\">\n",
       "<g id=\"graph0\" class=\"graph\" transform=\"scale(1 1) rotate(0) translate(4 36)\">\n",
       "<title>G</title>\n",
       "<polygon fill=\"white\" stroke=\"none\" points=\"-4,4 -4,-36 170,-36 170,4 -4,4\"/>\n",
       "<!-- node140280750381080 -->\n",
       "<g id=\"node1\" class=\"node\"><title>node140280750381080</title>\n",
       "<polygon fill=\"none\" stroke=\"black\" stroke-width=\"0.5\" points=\"166,-32.5 0,-32.5 0,0.5 166,0.5 166,-32.5\"/>\n",
       "<polygon fill=\"#fefecd\" stroke=\"none\" points=\"1,-18 1,-31 48,-31 48,-18 1,-18\"/>\n",
       "<polygon fill=\"none\" stroke=\"black\" points=\"1,-18 1,-31 48,-31 48,-18 1,-18\"/>\n",
       "<text text-anchor=\"start\" x=\"21.5\" y=\"-22.8\" font-family=\"Helvetica,sans-Serif\" font-size=\"9.00\" fill=\"#444443\">0</text>\n",
       "<polygon fill=\"#fefecd\" stroke=\"none\" points=\"48,-18 48,-31 105,-31 105,-18 48,-18\"/>\n",
       "<polygon fill=\"none\" stroke=\"black\" points=\"48,-18 48,-31 105,-31 105,-18 48,-18\"/>\n",
       "<text text-anchor=\"start\" x=\"73.5\" y=\"-22.8\" font-family=\"Helvetica,sans-Serif\" font-size=\"9.00\" fill=\"#444443\">1</text>\n",
       "<polygon fill=\"#fefecd\" stroke=\"none\" points=\"105,-18 105,-31 136,-31 136,-18 105,-18\"/>\n",
       "<polygon fill=\"none\" stroke=\"black\" points=\"105,-18 105,-31 136,-31 136,-18 105,-18\"/>\n",
       "<text text-anchor=\"start\" x=\"117.5\" y=\"-22.8\" font-family=\"Helvetica,sans-Serif\" font-size=\"9.00\" fill=\"#444443\">2</text>\n",
       "<polygon fill=\"#fefecd\" stroke=\"none\" points=\"136,-18 136,-31 165,-31 165,-18 136,-18\"/>\n",
       "<polygon fill=\"none\" stroke=\"black\" points=\"136,-18 136,-31 165,-31 165,-18 136,-18\"/>\n",
       "<text text-anchor=\"start\" x=\"147.5\" y=\"-22.8\" font-family=\"Helvetica,sans-Serif\" font-size=\"9.00\" fill=\"#444443\">3</text>\n",
       "<polygon fill=\"#fefecd\" stroke=\"none\" points=\"1,-0 1,-18 48,-18 48,-0 1,-0\"/>\n",
       "<polygon fill=\"none\" stroke=\"black\" points=\"1,-0 1,-18 48,-18 48,-0 1,-0\"/>\n",
       "<text text-anchor=\"start\" x=\"4.5\" y=\"-6.2\" font-family=\"Helvetica,sans-Serif\" font-size=\"11.00\" fill=\"#444443\">&#39;physics&#39;</text>\n",
       "<polygon fill=\"#fefecd\" stroke=\"none\" points=\"48,-0 48,-18 105,-18 105,-0 48,-0\"/>\n",
       "<polygon fill=\"none\" stroke=\"black\" points=\"48,-0 48,-18 105,-18 105,-0 48,-0\"/>\n",
       "<text text-anchor=\"start\" x=\"51\" y=\"-6.2\" font-family=\"Helvetica,sans-Serif\" font-size=\"11.00\" fill=\"#444443\">&#39;chemistry&#39;</text>\n",
       "<polygon fill=\"#fefecd\" stroke=\"none\" points=\"105,-0 105,-18 136,-18 136,-0 105,-0\"/>\n",
       "<polygon fill=\"none\" stroke=\"black\" points=\"105,-0 105,-18 136,-18 136,-0 105,-0\"/>\n",
       "<text text-anchor=\"start\" x=\"108\" y=\"-6.2\" font-family=\"Helvetica,sans-Serif\" font-size=\"11.00\" fill=\"#444443\">1997</text>\n",
       "<polygon fill=\"#fefecd\" stroke=\"none\" points=\"136,-0 136,-18 165,-18 165,-0 136,-0\"/>\n",
       "<text text-anchor=\"start\" x=\"138\" y=\"-6.2\" font-family=\"Helvetica,sans-Serif\" font-size=\"11.00\" fill=\"#444443\">2000</text>\n",
       "</g>\n",
       "</g>\n",
       "</svg>\n"
      ],
      "text/plain": [
       "<graphviz.files.Source at 0x7f95a84afa90>"
      ]
     },
     "execution_count": 7,
     "metadata": {},
     "output_type": "execute_result"
    }
   ],
   "source": [
    "tup1 = (50,)\n",
    "tup2 = ('physics', 'chemistry', 1997, 2000)\n",
    "objviz(tup2)"
   ]
  },
  {
   "cell_type": "markdown",
   "metadata": {},
   "source": [
    "### Set"
   ]
  },
  {
   "cell_type": "code",
   "execution_count": 8,
   "metadata": {},
   "outputs": [
    {
     "ename": "NameError",
     "evalue": "name 'objviz' is not defined",
     "output_type": "error",
     "traceback": [
      "\u001b[0;31m---------------------------------------------------------------------------\u001b[0m",
      "\u001b[0;31mNameError\u001b[0m                                 Traceback (most recent call last)",
      "\u001b[0;32m<ipython-input-8-59384f2fc497>\u001b[0m in \u001b[0;36m<module>\u001b[0;34m()\u001b[0m\n\u001b[1;32m      2\u001b[0m \u001b[0mbasket\u001b[0m \u001b[0;34m=\u001b[0m \u001b[0;34m[\u001b[0m\u001b[0;34m'apple'\u001b[0m\u001b[0;34m,\u001b[0m \u001b[0;34m'orange'\u001b[0m\u001b[0;34m,\u001b[0m \u001b[0;34m'apple'\u001b[0m\u001b[0;34m,\u001b[0m \u001b[0;34m'pear'\u001b[0m\u001b[0;34m,\u001b[0m \u001b[0;34m'orange'\u001b[0m\u001b[0;34m,\u001b[0m \u001b[0;34m'banana'\u001b[0m\u001b[0;34m]\u001b[0m\u001b[0;34m\u001b[0m\u001b[0m\n\u001b[1;32m      3\u001b[0m \u001b[0mfruit\u001b[0m \u001b[0;34m=\u001b[0m \u001b[0mset\u001b[0m\u001b[0;34m(\u001b[0m\u001b[0mbasket\u001b[0m\u001b[0;34m)\u001b[0m\u001b[0;34m\u001b[0m\u001b[0m\n\u001b[0;32m----> 4\u001b[0;31m \u001b[0mobjviz\u001b[0m\u001b[0;34m(\u001b[0m\u001b[0mfruit\u001b[0m\u001b[0;34m)\u001b[0m\u001b[0;34m\u001b[0m\u001b[0m\n\u001b[0m",
      "\u001b[0;31mNameError\u001b[0m: name 'objviz' is not defined"
     ]
    }
   ],
   "source": [
    "# an unordered collection with no duplicate elements\n",
    "basket = ['apple', 'orange', 'apple', 'pear', 'orange', 'banana']\n",
    "fruit = set(basket)\n",
    "objviz(fruit)"
   ]
  },
  {
   "cell_type": "markdown",
   "metadata": {},
   "source": [
    "### Dictionary"
   ]
  },
  {
   "cell_type": "code",
   "execution_count": 9,
   "metadata": {},
   "outputs": [
    {
     "ename": "NameError",
     "evalue": "name 'objviz' is not defined",
     "output_type": "error",
     "traceback": [
      "\u001b[0;31m---------------------------------------------------------------------------\u001b[0m",
      "\u001b[0;31mNameError\u001b[0m                                 Traceback (most recent call last)",
      "\u001b[0;32m<ipython-input-9-a8e774e4178d>\u001b[0m in \u001b[0;36m<module>\u001b[0;34m()\u001b[0m\n\u001b[1;32m      1\u001b[0m \u001b[0mdict\u001b[0m \u001b[0;34m=\u001b[0m \u001b[0;34m{\u001b[0m\u001b[0;34m'Name'\u001b[0m\u001b[0;34m:\u001b[0m \u001b[0;34m'Zara'\u001b[0m\u001b[0;34m,\u001b[0m \u001b[0;34m'Age'\u001b[0m\u001b[0;34m:\u001b[0m \u001b[0;36m7\u001b[0m\u001b[0;34m,\u001b[0m \u001b[0;34m'Class'\u001b[0m\u001b[0;34m:\u001b[0m \u001b[0;34m'First'\u001b[0m\u001b[0;34m}\u001b[0m\u001b[0;34m\u001b[0m\u001b[0m\n\u001b[0;32m----> 2\u001b[0;31m \u001b[0mobjviz\u001b[0m\u001b[0;34m(\u001b[0m\u001b[0mdict\u001b[0m\u001b[0;34m)\u001b[0m\u001b[0;34m\u001b[0m\u001b[0m\n\u001b[0m",
      "\u001b[0;31mNameError\u001b[0m: name 'objviz' is not defined"
     ]
    }
   ],
   "source": [
    "dict = {'Name': 'Zara', 'Age': 7, 'Class': 'First'}\n",
    "objviz(dict)"
   ]
  },
  {
   "cell_type": "code",
   "execution_count": 10,
   "metadata": {},
   "outputs": [
    {
     "name": "stdout",
     "output_type": "stream",
     "text": [
      "dict['Name']:  Zara\n"
     ]
    }
   ],
   "source": [
    "print(\"dict['Name']: \", dict['Name'])"
   ]
  },
  {
   "cell_type": "code",
   "execution_count": 11,
   "metadata": {},
   "outputs": [
    {
     "data": {
      "image/svg+xml": [
       "<?xml version=\"1.0\" encoding=\"UTF-8\" standalone=\"no\"?>\n",
       "<!DOCTYPE svg PUBLIC \"-//W3C//DTD SVG 1.1//EN\"\n",
       " \"http://www.w3.org/Graphics/SVG/1.1/DTD/svg11.dtd\">\n",
       "<!-- Generated by graphviz version 2.36.0 (20140111.2315)\n",
       " -->\n",
       "<!-- Title: G Pages: 1 -->\n",
       "<svg width=\"134pt\" height=\"58pt\"\n",
       " viewBox=\"0.00 0.00 134.00 58.00\" xmlns=\"http://www.w3.org/2000/svg\" xmlns:xlink=\"http://www.w3.org/1999/xlink\">\n",
       "<g id=\"graph0\" class=\"graph\" transform=\"scale(1 1) rotate(0) translate(4 54)\">\n",
       "<title>G</title>\n",
       "<polygon fill=\"white\" stroke=\"none\" points=\"-4,4 -4,-54 130,-54 130,4 -4,4\"/>\n",
       "<!-- node140280750601416 -->\n",
       "<g id=\"node1\" class=\"node\"><title>node140280750601416</title>\n",
       "<polygon fill=\"#fefecd\" stroke=\"#444443\" stroke-width=\"0.5\" points=\"125.5,-50.5 0.5,-50.5 0.5,0.5 125.5,0.5 125.5,-50.5\"/>\n",
       "<polygon fill=\"#fefecd\" stroke=\"none\" points=\"3,-33 3,-48 45,-48 45,-33 3,-33\"/>\n",
       "<text text-anchor=\"start\" x=\"8\" y=\"-37.7\" font-family=\"Helvetica,sans-Serif\" font-size=\"11.00\" fill=\"#444443\">&#39;Name&#39; </text>\n",
       "<text text-anchor=\"start\" x=\"45\" y=\"-35.8\" font-family=\"Helvetica,sans-Serif\" font-size=\"9.00\" fill=\"#444443\">→</text>\n",
       "<polygon fill=\"#fefecd\" stroke=\"none\" points=\"55,-33 55,-48 124,-48 124,-33 55,-33\"/>\n",
       "<text text-anchor=\"start\" x=\"56\" y=\"-37.7\" font-family=\"Helvetica,sans-Serif\" font-size=\"11.00\" fill=\"#444443\"> &#39;Zara&#39;</text>\n",
       "<polygon fill=\"#fefecd\" stroke=\"none\" points=\"3,-31 3,-33 124,-33 124,-31 3,-31\"/>\n",
       "<polygon fill=\"#fefecd\" stroke=\"none\" points=\"3,-17 3,-31 45,-31 45,-17 3,-17\"/>\n",
       "<text text-anchor=\"start\" x=\"17\" y=\"-21.2\" font-family=\"Helvetica,sans-Serif\" font-size=\"11.00\" fill=\"#444443\">&#39;Age&#39; </text>\n",
       "<text text-anchor=\"start\" x=\"45\" y=\"-19.8\" font-family=\"Helvetica,sans-Serif\" font-size=\"9.00\" fill=\"#444443\">→</text>\n",
       "<polygon fill=\"#fefecd\" stroke=\"none\" points=\"55,-17 55,-31 124,-31 124,-17 55,-17\"/>\n",
       "<text text-anchor=\"start\" x=\"56\" y=\"-21.2\" font-family=\"Helvetica,sans-Serif\" font-size=\"11.00\" fill=\"#444443\"> 8</text>\n",
       "<polygon fill=\"#fefecd\" stroke=\"none\" points=\"3,-15 3,-17 124,-17 124,-15 3,-15\"/>\n",
       "<polygon fill=\"#fefecd\" stroke=\"none\" points=\"3,-1 3,-15 45,-15 45,-1 3,-1\"/>\n",
       "<text text-anchor=\"start\" x=\"4\" y=\"-5.2\" font-family=\"Helvetica,sans-Serif\" font-size=\"11.00\" fill=\"#444443\">&#39;School&#39; </text>\n",
       "<text text-anchor=\"start\" x=\"45\" y=\"-3.8\" font-family=\"Helvetica,sans-Serif\" font-size=\"9.00\" fill=\"#444443\">→</text>\n",
       "<polygon fill=\"#fefecd\" stroke=\"none\" points=\"55,-1 55,-15 124,-15 124,-1 55,-1\"/>\n",
       "<text text-anchor=\"start\" x=\"56\" y=\"-5.2\" font-family=\"Helvetica,sans-Serif\" font-size=\"11.00\" fill=\"#444443\"> &#39;DPS School&#39;</text>\n",
       "</g>\n",
       "</g>\n",
       "</svg>\n"
      ],
      "text/plain": [
       "<graphviz.files.Source at 0x7f95a84c6208>"
      ]
     },
     "execution_count": 11,
     "metadata": {},
     "output_type": "execute_result"
    }
   ],
   "source": [
    "dict['Age'] = 8; # update existing entry\n",
    "dict['School'] = \"DPS School\"; # Add new entry\n",
    "del dict['Class']\n",
    "objviz(dict)"
   ]
  },
  {
   "cell_type": "markdown",
   "metadata": {},
   "source": [
    "### Node"
   ]
  },
  {
   "cell_type": "code",
   "execution_count": 12,
   "metadata": {},
   "outputs": [
    {
     "data": {
      "image/svg+xml": [
       "<?xml version=\"1.0\" encoding=\"UTF-8\" standalone=\"no\"?>\n",
       "<!DOCTYPE svg PUBLIC \"-//W3C//DTD SVG 1.1//EN\"\n",
       " \"http://www.w3.org/Graphics/SVG/1.1/DTD/svg11.dtd\">\n",
       "<!-- Generated by graphviz version 2.36.0 (20140111.2315)\n",
       " -->\n",
       "<!-- Title: G Pages: 1 -->\n",
       "<svg width=\"294pt\" height=\"92pt\"\n",
       " viewBox=\"0.00 0.00 294.00 92.00\" xmlns=\"http://www.w3.org/2000/svg\" xmlns:xlink=\"http://www.w3.org/1999/xlink\">\n",
       "<g id=\"graph0\" class=\"graph\" transform=\"scale(1 1) rotate(0) translate(4 88)\">\n",
       "<title>G</title>\n",
       "<polygon fill=\"white\" stroke=\"none\" points=\"-4,4 -4,-88 290,-88 290,4 -4,4\"/>\n",
       "<g id=\"clust1\" class=\"cluster\"><title>cluster1</title>\n",
       "</g>\n",
       "<!-- node140280750434176 -->\n",
       "<g id=\"node1\" class=\"node\"><title>node140280750434176</title>\n",
       "<polygon fill=\"#fefecd\" stroke=\"#444443\" stroke-width=\"0.5\" points=\"270,-67.5 194,-67.5 194,-16.5 270,-16.5 270,-67.5\"/>\n",
       "<polygon fill=\"#fefecd\" stroke=\"none\" points=\"196,-50 196,-65 268,-65 268,-50 196,-50\"/>\n",
       "<polygon fill=\"none\" stroke=\"#444443\" points=\"196,-50 196,-65 268,-65 268,-50 196,-50\"/>\n",
       "<text text-anchor=\"start\" x=\"220\" y=\"-54.7\" font-family=\"Times,serif\" font-style=\"italic\" font-size=\"11.00\" fill=\"#444443\">Node</text>\n",
       "<polygon fill=\"#fefecd\" stroke=\"none\" points=\"196,-48 196,-50 268,-50 268,-48 196,-48\"/>\n",
       "<polygon fill=\"#fefecd\" stroke=\"none\" points=\"196,-34 196,-48 228,-48 228,-34 196,-34\"/>\n",
       "<polygon fill=\"none\" stroke=\"#444443\" points=\"196,-34 196,-48 228,-48 228,-34 196,-34\"/>\n",
       "<text text-anchor=\"start\" x=\"198\" y=\"-38.2\" font-family=\"Helvetica,sans-Serif\" font-size=\"11.00\" fill=\"#444443\">value </text>\n",
       "<polygon fill=\"#fefecd\" stroke=\"none\" points=\"228,-34 228,-48 268,-48 268,-34 228,-34\"/>\n",
       "<text text-anchor=\"start\" x=\"229\" y=\"-38.2\" font-family=\"Helvetica,sans-Serif\" font-size=\"11.00\" fill=\"#444443\"> &#39;tombu&#39;</text>\n",
       "<polygon fill=\"#fefecd\" stroke=\"none\" points=\"196,-32 196,-34 268,-34 268,-32 196,-32\"/>\n",
       "<polygon fill=\"#fefecd\" stroke=\"none\" points=\"196,-18 196,-32 228,-32 228,-18 196,-18\"/>\n",
       "<polygon fill=\"none\" stroke=\"#444443\" points=\"196,-18 196,-32 228,-32 228,-18 196,-18\"/>\n",
       "<text text-anchor=\"start\" x=\"203\" y=\"-22.2\" font-family=\"Helvetica,sans-Serif\" font-size=\"11.00\" fill=\"#444443\">next </text>\n",
       "<polygon fill=\"#fefecd\" stroke=\"none\" points=\"228,-18 228,-32 268,-32 268,-18 228,-18\"/>\n",
       "<text text-anchor=\"start\" x=\"229\" y=\"-22.2\" font-family=\"Helvetica,sans-Serif\" font-size=\"11.00\" fill=\"#444443\"> &#160;&#160;&#160;</text>\n",
       "</g>\n",
       "<!-- node140280750434064 -->\n",
       "<g id=\"node2\" class=\"node\"><title>node140280750434064</title>\n",
       "<polygon fill=\"#fefecd\" stroke=\"#444443\" stroke-width=\"0.5\" points=\"171.5,-67.5 102.5,-67.5 102.5,-16.5 171.5,-16.5 171.5,-67.5\"/>\n",
       "<polygon fill=\"#fefecd\" stroke=\"none\" points=\"105,-50 105,-65 170,-65 170,-50 105,-50\"/>\n",
       "<polygon fill=\"none\" stroke=\"#444443\" points=\"105,-50 105,-65 170,-65 170,-50 105,-50\"/>\n",
       "<text text-anchor=\"start\" x=\"125.5\" y=\"-54.7\" font-family=\"Times,serif\" font-style=\"italic\" font-size=\"11.00\" fill=\"#444443\">Node</text>\n",
       "<polygon fill=\"#fefecd\" stroke=\"none\" points=\"105,-48 105,-50 170,-50 170,-48 105,-48\"/>\n",
       "<polygon fill=\"#fefecd\" stroke=\"none\" points=\"105,-34 105,-48 137,-48 137,-34 105,-34\"/>\n",
       "<polygon fill=\"none\" stroke=\"#444443\" points=\"105,-34 105,-48 137,-48 137,-34 105,-34\"/>\n",
       "<text text-anchor=\"start\" x=\"107\" y=\"-38.2\" font-family=\"Helvetica,sans-Serif\" font-size=\"11.00\" fill=\"#444443\">value </text>\n",
       "<polygon fill=\"#fefecd\" stroke=\"none\" points=\"137,-34 137,-48 170,-48 170,-34 137,-34\"/>\n",
       "<text text-anchor=\"start\" x=\"138\" y=\"-38.2\" font-family=\"Helvetica,sans-Serif\" font-size=\"11.00\" fill=\"#444443\"> &#39;parrt&#39;</text>\n",
       "<polygon fill=\"#fefecd\" stroke=\"none\" points=\"105,-32 105,-34 170,-34 170,-32 105,-32\"/>\n",
       "<polygon fill=\"#fefecd\" stroke=\"none\" points=\"105,-18 105,-32 137,-32 137,-18 105,-18\"/>\n",
       "<polygon fill=\"none\" stroke=\"#444443\" points=\"105,-18 105,-32 137,-32 137,-18 105,-18\"/>\n",
       "<text text-anchor=\"start\" x=\"112\" y=\"-22.2\" font-family=\"Helvetica,sans-Serif\" font-size=\"11.00\" fill=\"#444443\">next </text>\n",
       "<polygon fill=\"#fefecd\" stroke=\"none\" points=\"137,-18 137,-32 170,-32 170,-18 137,-18\"/>\n",
       "<text text-anchor=\"start\" x=\"138\" y=\"-22.2\" font-family=\"Helvetica,sans-Serif\" font-size=\"11.00\" fill=\"#444443\"> &#160;&#160;&#160;</text>\n",
       "</g>\n",
       "<!-- node140280750434064&#45;&gt;node140280750434176 -->\n",
       "<g id=\"edge2\" class=\"edge\"><title>node140280750434064:next:c&#45;&gt;node140280750434176</title>\n",
       "<path fill=\"none\" stroke=\"#444443\" stroke-width=\"0.5\" d=\"M158.364,-25.7524C164.179,-27.0531 176.748,-29.8648 189.823,-32.7895\"/>\n",
       "<ellipse fill=\"#444443\" stroke=\"#444443\" stroke-width=\"0.5\" cx=\"156.561\" cy=\"-25.3493\" rx=\"1.60001\" ry=\"1.60001\"/>\n",
       "<polygon fill=\"#444443\" stroke=\"#444443\" stroke-width=\"0.5\" points=\"189.681,-34.1922 193.891,-33.6992 190.293,-31.4597 189.681,-34.1922\"/>\n",
       "</g>\n",
       "<!-- node140280750434232 -->\n",
       "<g id=\"node3\" class=\"node\"><title>node140280750434232</title>\n",
       "<polygon fill=\"#fefecd\" stroke=\"#444443\" stroke-width=\"0.5\" points=\"79.5,-67.5 16.5,-67.5 16.5,-16.5 79.5,-16.5 79.5,-67.5\"/>\n",
       "<polygon fill=\"#fefecd\" stroke=\"none\" points=\"19,-50 19,-65 78,-65 78,-50 19,-50\"/>\n",
       "<polygon fill=\"none\" stroke=\"#444443\" points=\"19,-50 19,-65 78,-65 78,-50 19,-50\"/>\n",
       "<text text-anchor=\"start\" x=\"36.5\" y=\"-54.7\" font-family=\"Times,serif\" font-style=\"italic\" font-size=\"11.00\" fill=\"#444443\">Node</text>\n",
       "<polygon fill=\"#fefecd\" stroke=\"none\" points=\"19,-48 19,-50 78,-50 78,-48 19,-48\"/>\n",
       "<polygon fill=\"#fefecd\" stroke=\"none\" points=\"19,-34 19,-48 51,-48 51,-34 19,-34\"/>\n",
       "<polygon fill=\"none\" stroke=\"#444443\" points=\"19,-34 19,-48 51,-48 51,-34 19,-34\"/>\n",
       "<text text-anchor=\"start\" x=\"21\" y=\"-38.2\" font-family=\"Helvetica,sans-Serif\" font-size=\"11.00\" fill=\"#444443\">value </text>\n",
       "<polygon fill=\"#fefecd\" stroke=\"none\" points=\"51,-34 51,-48 78,-48 78,-34 51,-34\"/>\n",
       "<text text-anchor=\"start\" x=\"52\" y=\"-38.2\" font-family=\"Helvetica,sans-Serif\" font-size=\"11.00\" fill=\"#444443\"> &#39;xue&#39;</text>\n",
       "<polygon fill=\"#fefecd\" stroke=\"none\" points=\"19,-32 19,-34 78,-34 78,-32 19,-32\"/>\n",
       "<polygon fill=\"#fefecd\" stroke=\"none\" points=\"19,-18 19,-32 51,-32 51,-18 19,-18\"/>\n",
       "<polygon fill=\"none\" stroke=\"#444443\" points=\"19,-18 19,-32 51,-32 51,-18 19,-18\"/>\n",
       "<text text-anchor=\"start\" x=\"26\" y=\"-22.2\" font-family=\"Helvetica,sans-Serif\" font-size=\"11.00\" fill=\"#444443\">next </text>\n",
       "<polygon fill=\"#fefecd\" stroke=\"none\" points=\"51,-18 51,-32 78,-32 78,-18 51,-18\"/>\n",
       "<text text-anchor=\"start\" x=\"52\" y=\"-22.2\" font-family=\"Helvetica,sans-Serif\" font-size=\"11.00\" fill=\"#444443\"> &#160;&#160;&#160;</text>\n",
       "</g>\n",
       "<!-- node140280750434232&#45;&gt;node140280750434064 -->\n",
       "<g id=\"edge1\" class=\"edge\"><title>node140280750434232:next:c&#45;&gt;node140280750434064</title>\n",
       "<path fill=\"none\" stroke=\"#444443\" stroke-width=\"0.5\" d=\"M69.1437,-25.7635C74.5293,-27.0714 86.1081,-29.8834 98.1406,-32.8056\"/>\n",
       "<ellipse fill=\"#444443\" stroke=\"#444443\" stroke-width=\"0.5\" cx=\"67.5548\" cy=\"-25.3776\" rx=\"1.60001\" ry=\"1.60001\"/>\n",
       "<polygon fill=\"#444443\" stroke=\"#444443\" stroke-width=\"0.5\" points=\"98.0128,-34.2152 102.23,-33.7988 98.6736,-31.4943 98.0128,-34.2152\"/>\n",
       "</g>\n",
       "</g>\n",
       "</svg>\n"
      ],
      "text/plain": [
       "<graphviz.files.Source at 0x7f95a84c6860>"
      ]
     },
     "execution_count": 12,
     "metadata": {},
     "output_type": "execute_result"
    }
   ],
   "source": [
    "# linked list node\n",
    "class Node:\n",
    "    def __init__(self, value, next=None):\n",
    "        self.value = value\n",
    "        self.next = next\n",
    "\n",
    "head = Node('tombu')\n",
    "head = Node('parrt', head)\n",
    "head = Node(\"xue\", head)\n",
    "objviz(head)"
   ]
  },
  {
   "cell_type": "markdown",
   "metadata": {},
   "source": [
    "### Tree"
   ]
  },
  {
   "cell_type": "code",
   "execution_count": 10,
   "metadata": {},
   "outputs": [
    {
     "ename": "NameError",
     "evalue": "name 'treeviz' is not defined",
     "output_type": "error",
     "traceback": [
      "\u001b[0;31m---------------------------------------------------------------------------\u001b[0m",
      "\u001b[0;31mNameError\u001b[0m                                 Traceback (most recent call last)",
      "\u001b[0;32m<ipython-input-10-70b3e1a4803e>\u001b[0m in \u001b[0;36m<module>\u001b[0;34m()\u001b[0m\n\u001b[1;32m     12\u001b[0m             Tree('xue',None,Tree('mike')))\n\u001b[1;32m     13\u001b[0m \u001b[0;34m\u001b[0m\u001b[0m\n\u001b[0;32m---> 14\u001b[0;31m \u001b[0mtreeviz\u001b[0m\u001b[0;34m(\u001b[0m\u001b[0mroot\u001b[0m\u001b[0;34m)\u001b[0m\u001b[0;34m\u001b[0m\u001b[0m\n\u001b[0m",
      "\u001b[0;31mNameError\u001b[0m: name 'treeviz' is not defined"
     ]
    }
   ],
   "source": [
    "class Tree:\n",
    "    def __init__(self, value, left=None, right=None):\n",
    "        self.value = value\n",
    "        self.left = left\n",
    "        self.right = right\n",
    "        \n",
    "root = Tree('parrt',\n",
    "            Tree('mary',\n",
    "                 Tree('jim',\n",
    "                      Tree('srinivasan'),\n",
    "                      Tree('april'))),\n",
    "            Tree('xue',None,Tree('mike')))\n",
    "\n",
    "treeviz(root)"
   ]
  },
  {
   "cell_type": "code",
   "execution_count": null,
   "metadata": {
    "collapsed": true
   },
   "outputs": [],
   "source": []
  }
 ],
 "metadata": {
  "kernelspec": {
   "display_name": "Python 2",
   "language": "python",
   "name": "python2"
  },
  "language_info": {
   "codemirror_mode": {
    "name": "ipython",
    "version": 2
   },
   "file_extension": ".py",
   "mimetype": "text/x-python",
   "name": "python",
   "nbconvert_exporter": "python",
   "pygments_lexer": "ipython2",
   "version": "2.7.13"
  }
 },
 "nbformat": 4,
 "nbformat_minor": 2
}
